{
 "cells": [
  {
   "cell_type": "code",
   "execution_count": 27,
   "id": "be97d1ab-777d-4668-80fd-3056cbd619a4",
   "metadata": {},
   "outputs": [
    {
     "name": "stdout",
     "output_type": "stream",
     "text": [
      "tensor([1.], device='mps:0')\n"
     ]
    }
   ],
   "source": [
    "import torch\n",
    "import torch.nn as nn\n",
    "from torch.nn import functional as F\n",
    "\n",
    "#check if Metal MPS available\n",
    "if torch.backends.mps.is_available():\n",
    "    mps_device = torch.device(\"mps\")\n",
    "    x = torch.ones(1, device=mps_device)\n",
    "    print (x)\n",
    "else:\n",
    "    print (\"MPS device not found.\")\n",
    "\n",
    "block_size = 8\n",
    "batch_size = 4\n",
    "max_iters = 10000\n",
    "learning_rate = 3e-4\n",
    "eval_iters = 250"
   ]
  },
  {
   "cell_type": "code",
   "execution_count": 28,
   "id": "5c414014-acb1-4eb3-9ec7-96653f5f82e9",
   "metadata": {},
   "outputs": [
    {
     "name": "stdout",
     "output_type": "stream",
     "text": [
      "['\\n', ' ', '!', '\"', '&', \"'\", '(', ')', '*', ',', '-', '.', '0', '1', '2', '3', '4', '5', '6', '7', '8', '9', ':', ';', '?', 'A', 'B', 'C', 'D', 'E', 'F', 'G', 'H', 'I', 'J', 'K', 'L', 'M', 'N', 'O', 'P', 'Q', 'R', 'S', 'T', 'U', 'V', 'W', 'X', 'Y', 'Z', '[', ']', '_', 'a', 'b', 'c', 'd', 'e', 'f', 'g', 'h', 'i', 'j', 'k', 'l', 'm', 'n', 'o', 'p', 'q', 'r', 's', 't', 'u', 'v', 'w', 'x', 'y', 'z']\n"
     ]
    }
   ],
   "source": [
    "with open('wizard_of_oz.txt', 'r', encoding='utf-8') as f:\n",
    "    text = f.read()\n",
    "chars = sorted(set(text))\n",
    "print(chars)\n",
    "vocab_size = len(chars)"
   ]
  },
  {
   "cell_type": "code",
   "execution_count": 29,
   "id": "a5649494-26ef-4fde-8698-7ebe6e2d9420",
   "metadata": {},
   "outputs": [],
   "source": [
    "# encode / decode stuff - TOKENIZER\n",
    "string_to_int = {ch:i for i, ch in enumerate(chars)}\n",
    "int_to_string = {i:ch for i, ch in enumerate(chars)}\n",
    "\n",
    "encode = lambda s: [string_to_int[c] for c in s]\n",
    "decode = lambda l: ''.join([int_to_string[i] for i in l])\n",
    "\n",
    "data = torch.tensor(encode(text), dtype=torch.long)"
   ]
  },
  {
   "cell_type": "code",
   "execution_count": 30,
   "id": "eefcaa3b-9cf8-41e4-98ae-04c67021541c",
   "metadata": {},
   "outputs": [],
   "source": [
    "n = int(0.8*len(data))\n",
    "train_data = data[:n]\n",
    "val_data = data[n:]\n",
    "\n",
    "def get_batch(split):\n",
    "    data = train_data if split == 'train' else val_data\n",
    "    ix = torch.randint(len(data) - block_size, (batch_size,))\n",
    "    x = torch.stack([data[i:i+block_size] for i in ix])\n",
    "    y = torch.stack([data[i+1:i+block_size+1] for i in ix])\n",
    "    x, y = x.to(mps_device), y.to(mps_device)\n",
    "    return x,y"
   ]
  },
  {
   "cell_type": "code",
   "execution_count": 31,
   "id": "f9db00ee-489e-484e-a90b-b3fd990f90ba",
   "metadata": {},
   "outputs": [],
   "source": [
    "@torch.no_grad()\n",
    "def estimate_loss():\n",
    "    out = {}\n",
    "    model.eval()\n",
    "    for split in ['train', 'val']:\n",
    "        losses = torch.zeros(eval_iters)\n",
    "        for k in range(eval_iters):\n",
    "            X, Y = get_batch(split)\n",
    "            logits, loss = model(X,Y)\n",
    "            losses[k] = loss.item()\n",
    "        out[split] = losses.mean()\n",
    "    model.train()\n",
    "    return out"
   ]
  },
  {
   "cell_type": "code",
   "execution_count": 32,
   "id": "a5b2342f-5d6b-4197-9673-8974cbcae36e",
   "metadata": {},
   "outputs": [],
   "source": [
    "class BigramLanguageModel(nn.Module):\n",
    "    def __init__(self, vocab_size):\n",
    "        super().__init__()\n",
    "        self.token_embedding_table = nn.Embedding(vocab_size, vocab_size)\n",
    "\n",
    "    def forward(self, index, targets=None):\n",
    "        logits = self.token_embedding_table(index)\n",
    "        \n",
    "        if targets is None:\n",
    "            loss = None\n",
    "        else:\n",
    "            B, T, C = logits.shape\n",
    "            logits = logits.view(B*T, C)\n",
    "            targets = targets.view(B*T)\n",
    "            loss = F.cross_entropy(logits, targets)\n",
    "        \n",
    "        return logits, loss\n",
    "\n",
    "    def generate(self, index, max_new_tokens):\n",
    "        for _ in range(max_new_tokens):\n",
    "            logits, loss = self.forward(index)\n",
    "            logits = logits[:, -1, :]\n",
    "            probs = F.softmax(logits, dim=-1)\n",
    "            index_next = torch.multinomial(probs, num_samples=1)\n",
    "            index = torch.cat((index, index_next), dim=1)\n",
    "        return index\n",
    "\n",
    "model = BigramLanguageModel(vocab_size)\n",
    "m = model.to(mps_device)"
   ]
  },
  {
   "cell_type": "code",
   "execution_count": 35,
   "id": "f4f08b84-69d9-430d-adee-f1e5e237c773",
   "metadata": {},
   "outputs": [
    {
     "name": "stdout",
     "output_type": "stream",
     "text": [
      "step 0: train loss 3.1915, val loss 3.1797\n",
      "step 250: train loss 3.1382, val loss 3.1639\n",
      "step 500: train loss 3.1319, val loss 3.1582\n",
      "step 750: train loss 3.0945, val loss 3.1199\n",
      "step 1000: train loss 3.0905, val loss 3.1105\n",
      "step 1250: train loss 3.0479, val loss 3.0823\n",
      "step 1500: train loss 3.0092, val loss 3.0559\n",
      "step 1750: train loss 3.0208, val loss 3.0445\n",
      "step 2000: train loss 3.0039, val loss 3.0022\n",
      "step 2250: train loss 2.9979, val loss 3.0003\n",
      "step 2500: train loss 2.9524, val loss 2.9922\n",
      "step 2750: train loss 2.9460, val loss 2.9613\n",
      "step 3000: train loss 2.9359, val loss 2.9637\n",
      "step 3250: train loss 2.9210, val loss 2.9459\n",
      "step 3500: train loss 2.8771, val loss 2.9396\n",
      "step 3750: train loss 2.8846, val loss 2.9395\n",
      "step 4000: train loss 2.8630, val loss 2.8983\n",
      "step 4250: train loss 2.8838, val loss 2.8711\n",
      "step 4500: train loss 2.8298, val loss 2.8585\n",
      "step 4750: train loss 2.8392, val loss 2.8554\n",
      "step 5000: train loss 2.8246, val loss 2.8475\n",
      "step 5250: train loss 2.7933, val loss 2.8289\n",
      "step 5500: train loss 2.8005, val loss 2.8094\n",
      "step 5750: train loss 2.7894, val loss 2.8027\n",
      "step 6000: train loss 2.7789, val loss 2.8258\n",
      "step 6250: train loss 2.7717, val loss 2.8198\n",
      "step 6500: train loss 2.7632, val loss 2.7526\n",
      "step 6750: train loss 2.7327, val loss 2.7594\n",
      "step 7000: train loss 2.7521, val loss 2.7968\n",
      "step 7250: train loss 2.7364, val loss 2.7534\n",
      "step 7500: train loss 2.7118, val loss 2.7373\n",
      "step 7750: train loss 2.7012, val loss 2.7340\n",
      "step 8000: train loss 2.7127, val loss 2.7766\n",
      "step 8250: train loss 2.6957, val loss 2.7241\n",
      "step 8500: train loss 2.6776, val loss 2.7298\n",
      "step 8750: train loss 2.6610, val loss 2.7022\n",
      "step 9000: train loss 2.6911, val loss 2.7303\n",
      "step 9250: train loss 2.6714, val loss 2.7048\n",
      "step 9500: train loss 2.6676, val loss 2.6752\n",
      "step 9750: train loss 2.6598, val loss 2.6768\n",
      "step 10000: train loss 2.6313, val loss 2.6928\n",
      "2.542689800262451\n"
     ]
    }
   ],
   "source": [
    "# create a PyTorch optimizer\n",
    "\n",
    "optimizer = torch.optim.AdamW(model.parameters(), lr=learning_rate)\n",
    "\n",
    "for iter in range(max_iters+1):\n",
    "    if iter % eval_iters == 0:\n",
    "        losses = estimate_loss()\n",
    "        print(f\"step {iter}: train loss {losses['train']:.4f}, val loss {losses['val']:.4f}\")\n",
    "    \n",
    "    #sample a batch\n",
    "    xb, yb = get_batch('train')\n",
    "\n",
    "    #evaluate loss\n",
    "    logits, loss = model.forward(xb,yb)\n",
    "    optimizer.zero_grad(set_to_none=True)\n",
    "    loss.backward()\n",
    "    optimizer.step()\n",
    "print(loss.item())"
   ]
  },
  {
   "cell_type": "code",
   "execution_count": 36,
   "id": "e198b8a0-4b7d-4a1c-a4f6-6a6073b65b6c",
   "metadata": {},
   "outputs": [
    {
     "name": "stdout",
     "output_type": "stream",
     "text": [
      "\n",
      "\n",
      "has  Heind ad. cand lou\n",
      "HE45B3W0K&Psiotseenet bWUfirheyf andrd lvwZevZ)Ls w\n",
      "e!Fe su b tevq)yony aply:;-d tbDj20SxK,_Det'0bud E!3](J'ID t.\"PqI!T\n",
      "WANfstof.7go  N_58DITcG0_5))Y!6?erdrJ10y te ar,\"CEaw?Iamm sitit\";d frkistb-ud e blourof*?lse.\n",
      "seda an'8limayo d\n",
      "ld  Zwh4UAow\n",
      "nd POf aker ane t s ry Zonc-z]s-sx_!98-15VQGX*PWhe,vG\n",
      "d s got!9are.\"IZPU3kn'85*0x]4Vts Vctthelin ant r ton thos wicru carm.\"TJQ&SI'SZness'O]zigeke a terserlBe OWf.C0ZQ, he!j1U!W:(JS5Bfthe s t Gre pyods tht web:ME!silon?-J'szemalig\n"
     ]
    }
   ],
   "source": []
  },
  {
   "cell_type": "code",
   "execution_count": null,
   "id": "7b566478-5906-4dd4-b953-1974a8758da7",
   "metadata": {},
   "outputs": [],
   "source": []
  }
 ],
 "metadata": {
  "kernelspec": {
   "display_name": "cuda-gpt",
   "language": "python",
   "name": "cuda"
  },
  "language_info": {
   "codemirror_mode": {
    "name": "ipython",
    "version": 3
   },
   "file_extension": ".py",
   "mimetype": "text/x-python",
   "name": "python",
   "nbconvert_exporter": "python",
   "pygments_lexer": "ipython3",
   "version": "3.10.8"
  }
 },
 "nbformat": 4,
 "nbformat_minor": 5
}
